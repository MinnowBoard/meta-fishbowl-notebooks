{
 "cells": [
  {
   "cell_type": "markdown",
   "metadata": {},
   "source": [
    "Hello World\n",
    "===\n",
    "Welcome to NAME, an interactive Python programming environment for your MinnowBoard. The code you write here is running directly on your MinnowBoard.\n",
    "\n",
    "Each block of text or code is called a cell. You can run individual cells by clicking in them and pressing the \"Run Cell\" button above, or by typing **ctrl+enter**.\n",
    "\n",
    "Try running the code in the next cell, the words \"Hello World!\" should appear below the code."
   ]
  },
  {
   "cell_type": "code",
   "execution_count": 1,
   "metadata": {
    "collapsed": false
   },
   "outputs": [
    {
     "ename": "ImportError",
     "evalue": "No module named mraa",
     "output_type": "error",
     "traceback": [
      "\u001b[1;31m---------------------------------------------------------------------------\u001b[0m",
      "\u001b[1;31mImportError\u001b[0m                               Traceback (most recent call last)",
      "\u001b[1;32m<ipython-input-1-2fef408ed6db>\u001b[0m in \u001b[0;36m<module>\u001b[1;34m()\u001b[0m\n\u001b[1;32m----> 1\u001b[1;33m \u001b[1;32mimport\u001b[0m \u001b[0mmraa\u001b[0m\u001b[1;33m\u001b[0m\u001b[0m\n\u001b[0m\u001b[0;32m      2\u001b[0m \u001b[1;32mprint\u001b[0m \u001b[1;34m\"Hello World!\"\u001b[0m\u001b[1;33m\u001b[0m\u001b[0m\n\u001b[0;32m      3\u001b[0m \u001b[1;32mprint\u001b[0m \u001b[1;34m\"          --\"\u001b[0m\u001b[1;33m,\u001b[0m \u001b[0mmraa\u001b[0m\u001b[1;33m.\u001b[0m\u001b[0mgetPlatformName\u001b[0m\u001b[1;33m(\u001b[0m\u001b[1;33m)\u001b[0m\u001b[1;33m\u001b[0m\u001b[0m\n",
      "\u001b[1;31mImportError\u001b[0m: No module named mraa"
     ]
    }
   ],
   "source": [
    "import mraa\n",
    "print \"Hello World!\"\n",
    "print \"          --\", mraa.getPlatformName()"
   ]
  },
  {
   "cell_type": "markdown",
   "metadata": {},
   "source": [
    "Now try changing the text to say something else. When you run the cell again, the output below the code will change.\n",
    "\n",
    "Congratulations, you have written your first program for your MinnowBoard!\n",
    "\n",
    "Close this tab in your browser and return to the NAME Home. To learn how to interact with some of the electronics on your MinnowBoard and Lures, select 02-blink."
   ]
  }
 ],
 "metadata": {
  "kernelspec": {
   "display_name": "Python 2",
   "language": "python",
   "name": "python2"
  },
  "language_info": {
   "codemirror_mode": {
    "name": "ipython",
    "version": 2
   },
   "file_extension": ".py",
   "mimetype": "text/x-python",
   "name": "python",
   "nbconvert_exporter": "python",
   "pygments_lexer": "ipython2",
   "version": "2.7.11"
  }
 },
 "nbformat": 4,
 "nbformat_minor": 0
}
